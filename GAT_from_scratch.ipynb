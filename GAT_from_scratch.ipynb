{
  "nbformat": 4,
  "nbformat_minor": 0,
  "metadata": {
    "colab": {
      "provenance": [],
      "gpuType": "T4"
    },
    "kernelspec": {
      "name": "python3",
      "display_name": "Python 3"
    },
    "language_info": {
      "name": "python"
    },
    "accelerator": "GPU"
  },
  "cells": [
    {
      "cell_type": "code",
      "execution_count": 1,
      "metadata": {
        "colab": {
          "base_uri": "https://localhost:8080/"
        },
        "id": "49W-WghZVMeG",
        "outputId": "ebcdae79-9aa2-4b8d-e410-9e31b8bccd39"
      },
      "outputs": [
        {
          "output_type": "stream",
          "name": "stdout",
          "text": [
            "Looking in links: https://data.dgl.ai/wheels/cu117/repo.html\n",
            "Collecting dgl==1.0.1+cu117\n",
            "  Downloading https://data.dgl.ai/wheels/cu117/dgl-1.0.1%2Bcu117-cp310-cp310-manylinux1_x86_64.whl (266.3 MB)\n",
            "\u001b[2K     \u001b[90m━━━━━━━━━━━━━━━━━━━━━━━━━━━━━━━━━━━━━━━\u001b[0m \u001b[32m266.3/266.3 MB\u001b[0m \u001b[31m4.6 MB/s\u001b[0m eta \u001b[36m0:00:00\u001b[0m\n",
            "\u001b[?25hRequirement already satisfied: numpy>=1.14.0 in /usr/local/lib/python3.10/dist-packages (from dgl==1.0.1+cu117) (1.23.5)\n",
            "Requirement already satisfied: scipy>=1.1.0 in /usr/local/lib/python3.10/dist-packages (from dgl==1.0.1+cu117) (1.10.1)\n",
            "Requirement already satisfied: networkx>=2.1 in /usr/local/lib/python3.10/dist-packages (from dgl==1.0.1+cu117) (3.1)\n",
            "Requirement already satisfied: requests>=2.19.0 in /usr/local/lib/python3.10/dist-packages (from dgl==1.0.1+cu117) (2.31.0)\n",
            "Requirement already satisfied: tqdm in /usr/local/lib/python3.10/dist-packages (from dgl==1.0.1+cu117) (4.66.1)\n",
            "Requirement already satisfied: psutil>=5.8.0 in /usr/local/lib/python3.10/dist-packages (from dgl==1.0.1+cu117) (5.9.5)\n",
            "Requirement already satisfied: charset-normalizer<4,>=2 in /usr/local/lib/python3.10/dist-packages (from requests>=2.19.0->dgl==1.0.1+cu117) (3.2.0)\n",
            "Requirement already satisfied: idna<4,>=2.5 in /usr/local/lib/python3.10/dist-packages (from requests>=2.19.0->dgl==1.0.1+cu117) (3.4)\n",
            "Requirement already satisfied: urllib3<3,>=1.21.1 in /usr/local/lib/python3.10/dist-packages (from requests>=2.19.0->dgl==1.0.1+cu117) (2.0.4)\n",
            "Requirement already satisfied: certifi>=2017.4.17 in /usr/local/lib/python3.10/dist-packages (from requests>=2.19.0->dgl==1.0.1+cu117) (2023.7.22)\n",
            "Installing collected packages: dgl\n",
            "Successfully installed dgl-1.0.1+cu117\n"
          ]
        }
      ],
      "source": [
        "!pip install dgl==1.0.1+cu117 -f https://data.dgl.ai/wheels/cu117/repo.html"
      ]
    },
    {
      "cell_type": "code",
      "source": [
        "import os, torch, time\n",
        "os.environ['DGLBACKEND'] = 'pytorch'\n",
        "import dgl\n",
        "import dgl.function as fn\n",
        "import torch.nn as nn\n",
        "import torch.nn.functional as F\n",
        "from dgl import DGLGraph\n",
        "\n",
        "torch.cuda.is_available()"
      ],
      "metadata": {
        "colab": {
          "base_uri": "https://localhost:8080/"
        },
        "id": "P6kk4shTVOmn",
        "outputId": "224c8349-06ed-49cc-94b2-da601eb1f12e"
      },
      "execution_count": 2,
      "outputs": [
        {
          "output_type": "execute_result",
          "data": {
            "text/plain": [
              "True"
            ]
          },
          "metadata": {},
          "execution_count": 2
        }
      ]
    },
    {
      "cell_type": "code",
      "source": [
        "class GATLayer(nn.Module):\n",
        "  def __init__(self, g, in_dim, out_dim):\n",
        "    super().__init__()\n",
        "    self.g = g\n",
        "    self.fc = nn.Linear(in_dim, out_dim, bias=False)\n",
        "    self.attn_fc = nn.Linear(out_dim * 2, 1, bias=False) #additive attention\n",
        "    self.reset_parameters()\n",
        "\n",
        "  def reset_parameters(self):\n",
        "    \"\"\"Reinitialize learnable parameters.\"\"\"\n",
        "    gain = nn.init.calculate_gain(\"relu\")\n",
        "    nn.init.xavier_normal_(self.fc.weight, gain=gain)\n",
        "    nn.init.xavier_normal_(self.attn_fc.weight, gain=gain)\n",
        "\n",
        "  def edge_attention(self, edges):\n",
        "    z2 = torch.cat([edges.src['z'], edges.dst['z']], dim=1)\n",
        "    a = self.attn_fc(z2)\n",
        "    return {'e': F.leaky_relu(a)}\n",
        "\n",
        "  def message_func(self, edges):\n",
        "    return {'z': edges.src['z'], 'e': edges.data['e']}\n",
        "\n",
        "  def reduce_func(self, nodes):\n",
        "    alpha = F.softmax(nodes.mailbox['e'], dim=1)\n",
        "    h = torch.sum(alpha * nodes.mailbox['z'], dim=1)\n",
        "    return {'h': h}\n",
        "\n",
        "  def forward(self, h):\n",
        "    z = self.fc(h)\n",
        "    self.g.ndata['z'] = z\n",
        "    self.g.apply_edges(self.edge_attention)\n",
        "    self.g.update_all(self.message_func, self.reduce_func)\n",
        "    return self.g.ndata.pop('h')"
      ],
      "metadata": {
        "id": "UoUqX362mkfd"
      },
      "execution_count": 23,
      "outputs": []
    },
    {
      "cell_type": "code",
      "source": [
        "class MultiHeadGATLayer(nn.Module):\n",
        "  def __init__(self, g, in_dim, out_dim, num_heads, merge='cat'):\n",
        "    super().__init__()\n",
        "    self.heads = nn.ModuleList()\n",
        "    for i in range(num_heads):\n",
        "      self.heads.append(GATLayer(g, in_dim, out_dim))\n",
        "    self.merge = merge\n",
        "\n",
        "  def forward(self, h):\n",
        "    head_outs = [attn_head(h) for attn_head in self.heads]\n",
        "    if self.merge == 'cat':\n",
        "      return torch.cat(head_outs, dim=1)\n",
        "    else:\n",
        "      return torch.mean(torch.stack(head_outs))"
      ],
      "metadata": {
        "id": "HC6Z0B4u8LET"
      },
      "execution_count": 24,
      "outputs": []
    },
    {
      "cell_type": "code",
      "source": [
        "class GAT(nn.Module):\n",
        "  def __init__(self, g, in_dim, hidden_dim, out_dim, num_heads):\n",
        "    super().__init__()\n",
        "    self.layer1 = MultiHeadGATLayer(g, in_dim, hidden_dim, num_heads)\n",
        "    self.layer2 = MultiHeadGATLayer(g, hidden_dim * num_heads, out_dim, 1)\n",
        "\n",
        "  def forward(self, h):\n",
        "    h = F.elu(self.layer1(h))\n",
        "    h = self.layer2(h)\n",
        "    return h"
      ],
      "metadata": {
        "id": "EQ2d8BQxFax0"
      },
      "execution_count": 25,
      "outputs": []
    },
    {
      "cell_type": "code",
      "source": [
        "from dgl import DGLGraph\n",
        "from dgl.data import citation_graph as citegrh\n",
        "\n",
        "def load_cora_data():\n",
        "    data = citegrh.load_cora()\n",
        "    g = data[0]\n",
        "    mask = torch.BoolTensor(g.ndata[\"train_mask\"])\n",
        "    return g, g.ndata[\"feat\"], g.ndata[\"label\"], mask\n",
        "\n",
        "import time\n",
        "import numpy as np\n",
        "\n",
        "g, features, labels, mask = load_cora_data()\n",
        "net = GAT(g, in_dim=features.size()[1], hidden_dim=8, out_dim=7, num_heads=2)\n",
        "optimizer = torch.optim.Adam(net.parameters(), lr=1e-3)\n",
        "\n",
        "dur = []\n",
        "for epoch in range(30):\n",
        "    if epoch >= 3:\n",
        "        t0 = time.time()\n",
        "\n",
        "    logits = net(features)\n",
        "    logp = F.log_softmax(logits, 1)\n",
        "    loss = F.nll_loss(logp[mask], labels[mask])\n",
        "\n",
        "    optimizer.zero_grad()\n",
        "    loss.backward()\n",
        "    optimizer.step()\n",
        "\n",
        "    if epoch >= 3:\n",
        "        dur.append(time.time() - t0)\n",
        "\n",
        "    print(\n",
        "        \"Epoch {:05d} | Loss {:.4f} | Time(s) {:.4f}\".format(\n",
        "            epoch, loss.item(), np.mean(dur)\n",
        "        )\n",
        "    )"
      ],
      "metadata": {
        "id": "iZ34wY8-PMNf",
        "colab": {
          "base_uri": "https://localhost:8080/"
        },
        "outputId": "d0d8b56f-d26e-437f-9a34-77fb4b0176ba"
      },
      "execution_count": 26,
      "outputs": [
        {
          "output_type": "stream",
          "name": "stdout",
          "text": [
            "  NumNodes: 2708\n",
            "  NumEdges: 10556\n",
            "  NumFeats: 1433\n",
            "  NumClasses: 7\n",
            "  NumTrainingSamples: 140\n",
            "  NumValidationSamples: 500\n",
            "  NumTestSamples: 1000\n",
            "Done loading data from cached files.\n",
            "Epoch 00000 | Loss 1.9461 | Time(s) nan\n"
          ]
        },
        {
          "output_type": "stream",
          "name": "stderr",
          "text": [
            "/usr/local/lib/python3.10/dist-packages/numpy/core/fromnumeric.py:3432: RuntimeWarning: Mean of empty slice.\n",
            "  return _methods._mean(a, axis=axis, dtype=dtype,\n",
            "/usr/local/lib/python3.10/dist-packages/numpy/core/_methods.py:190: RuntimeWarning: invalid value encountered in double_scalars\n",
            "  ret = ret.dtype.type(ret / rcount)\n"
          ]
        },
        {
          "output_type": "stream",
          "name": "stdout",
          "text": [
            "Epoch 00001 | Loss 1.9443 | Time(s) nan\n",
            "Epoch 00002 | Loss 1.9426 | Time(s) nan\n",
            "Epoch 00003 | Loss 1.9408 | Time(s) 0.0899\n",
            "Epoch 00004 | Loss 1.9390 | Time(s) 0.0956\n",
            "Epoch 00005 | Loss 1.9372 | Time(s) 0.0940\n",
            "Epoch 00006 | Loss 1.9354 | Time(s) 0.0969\n",
            "Epoch 00007 | Loss 1.9336 | Time(s) 0.0964\n",
            "Epoch 00008 | Loss 1.9319 | Time(s) 0.0970\n",
            "Epoch 00009 | Loss 1.9301 | Time(s) 0.0965\n",
            "Epoch 00010 | Loss 1.9283 | Time(s) 0.0965\n",
            "Epoch 00011 | Loss 1.9264 | Time(s) 0.0957\n",
            "Epoch 00012 | Loss 1.9246 | Time(s) 0.0947\n",
            "Epoch 00013 | Loss 1.9228 | Time(s) 0.0943\n",
            "Epoch 00014 | Loss 1.9210 | Time(s) 0.0939\n",
            "Epoch 00015 | Loss 1.9191 | Time(s) 0.0933\n",
            "Epoch 00016 | Loss 1.9173 | Time(s) 0.0931\n",
            "Epoch 00017 | Loss 1.9154 | Time(s) 0.0928\n",
            "Epoch 00018 | Loss 1.9135 | Time(s) 0.0922\n",
            "Epoch 00019 | Loss 1.9117 | Time(s) 0.0932\n",
            "Epoch 00020 | Loss 1.9098 | Time(s) 0.0930\n",
            "Epoch 00021 | Loss 1.9078 | Time(s) 0.0924\n",
            "Epoch 00022 | Loss 1.9059 | Time(s) 0.0922\n",
            "Epoch 00023 | Loss 1.9040 | Time(s) 0.0918\n",
            "Epoch 00024 | Loss 1.9021 | Time(s) 0.0916\n",
            "Epoch 00025 | Loss 1.9001 | Time(s) 0.0917\n",
            "Epoch 00026 | Loss 1.8981 | Time(s) 0.0919\n",
            "Epoch 00027 | Loss 1.8961 | Time(s) 0.0921\n",
            "Epoch 00028 | Loss 1.8941 | Time(s) 0.0924\n",
            "Epoch 00029 | Loss 1.8921 | Time(s) 0.0921\n"
          ]
        }
      ]
    },
    {
      "cell_type": "code",
      "source": [],
      "metadata": {
        "id": "4AI2oxQpn23U"
      },
      "execution_count": 26,
      "outputs": []
    }
  ]
}